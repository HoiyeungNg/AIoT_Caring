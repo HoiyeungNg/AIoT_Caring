{
 "cells": [
  {
   "cell_type": "code",
   "execution_count": 1,
   "id": "60bdeac9",
   "metadata": {},
   "outputs": [
    {
     "name": "stdout",
     "output_type": "stream",
     "text": [
      "time: 2.27 s (started: 2023-04-09 18:47:55 +08:00)\n"
     ]
    }
   ],
   "source": [
    "%load_ext autotime\n",
    "%load_ext autoreload \n",
    "%autoreload 2\n",
    "\n",
    "import os\n",
    "import sys\n",
    "import pandas as pd\n",
    "import numpy as np\n",
    "from joblib import dump, load\n",
    "import graphviz \n",
    "\n",
    "from sklearn.model_selection import cross_val_score\n",
    "from sklearn import tree\n",
    "from sklearn.tree import DecisionTreeClassifier, export_text, export_graphviz\n",
    "from sklearn.metrics import classification_report, confusion_matrix\n",
    "\n",
    "# sys.path.append('./src/')\n",
    "from config import *\n",
    "from utils import *\n",
    "from visualization import *"
   ]
  },
  {
   "cell_type": "code",
   "execution_count": 2,
   "id": "f567dbbe",
   "metadata": {},
   "outputs": [
    {
     "name": "stdout",
     "output_type": "stream",
     "text": [
      "284 files retrived for class NORMAL\n",
      "71 files retrived for class ALERT\n",
      "time: 468 ms (started: 2023-04-09 18:47:58 +08:00)\n"
     ]
    }
   ],
   "source": [
    "input_path = os.path.join(DATA_DIR, 'train')\n",
    "points_path = os.path.join(DATA_DIR, 'train', 'points')\n",
    "\n",
    "data = {}\n",
    "for label in labels:\n",
    "    curr_data = {}\n",
    "    img_files = [f for f in os.listdir(os.path.join(input_path, label)) if '.jpg' in f]\n",
    "    for i, f in enumerate(img_files):\n",
    "        pt_path = os.path.join(points_path, f.replace('.jpg', '.npy'))\n",
    "        curr_data.update({f:np.loadtxt(pt_path)})\n",
    "    print(i+1, 'files retrived for class', label.upper())\n",
    "    data.update({label:curr_data})"
   ]
  },
  {
   "cell_type": "code",
   "execution_count": 3,
   "id": "20ee34ea",
   "metadata": {},
   "outputs": [
    {
     "name": "stdout",
     "output_type": "stream",
     "text": [
      "{'nose': 0, 'left_eye': 1, 'right_eye': 2, 'left_ear': 3, 'right_ear': 4, 'left_shoulder': 5, 'right_shoulder': 6, 'left_elbow': 7, 'right_elbow': 8, 'left_wrist': 9, 'right_wrist': 10, 'left_hip': 11, 'right_hip': 12, 'left_knee': 13, 'right_knee': 14, 'left_ankle': 15, 'right_ankle': 16}\n",
      "time: 187 ms (started: 2023-04-09 18:47:58 +08:00)\n"
     ]
    }
   ],
   "source": [
    "print(KEYPOINT_DICT)"
   ]
  },
  {
   "cell_type": "code",
   "execution_count": 4,
   "id": "ee1f938c",
   "metadata": {},
   "outputs": [
    {
     "name": "stdout",
     "output_type": "stream",
     "text": [
      "time: 281 ms (started: 2023-04-09 18:47:58 +08:00)\n"
     ]
    }
   ],
   "source": [
    "df = []\n",
    "for sample_label in labels:\n",
    "    for sample_file in data[sample_label]:\n",
    "        keypoints_with_scores = data[sample_label][sample_file]\n",
    "        curr_features = produce_feature(keypoints_with_scores, return_dict=True)\n",
    "        training_data = {'label':sample_label, 'file_name':sample_file}\n",
    "        training_data.update(curr_features)\n",
    "        df.append(training_data)\n",
    "df = pd.DataFrame(df).sort_values('file_name', ascending=True).reset_index(drop=True)\n",
    "\n",
    "# Using previous data when possible, if center cannot be identified\n",
    "# 'head_center_y', 'body_center_y', 'foot_center_y'\n",
    "default_val = 0\n",
    "for i in range(df.shape[0]):\n",
    "    if i == 0 or int(df.iloc[i, 1].split('.')[0]) - int(df.iloc[i-1, 1].split('.')[0])  < 10**6:\n",
    "        for c in range(2, 5):\n",
    "            if df.iloc[i, c] != df.iloc[i, c]:\n",
    "                df.iloc[i, c] = default_val       \n",
    "    else:  \n",
    "        for c in range(2, 5):\n",
    "            if df.iloc[i, c] != df.iloc[i, c]:\n",
    "                df.iloc[i, c] = df.iloc[i-1, c]   \n",
    "\n",
    "df['head_above_body'] = df['head_center_y'] > df['body_center_y']\n",
    "df['head_below_body'] = df['head_center_y'] < df['body_center_y']\n",
    "df['body_above_foot'] = df['body_center_y'] > df['foot_center_y']\n",
    "df['body_below_foot'] = df['body_center_y'] < df['foot_center_y']\n",
    "df['head_above_foot'] = df['head_center_y'] > df['foot_center_y']\n",
    "df['head_below_foot'] = df['head_center_y'] < df['foot_center_y']\n",
    "\n",
    "features = ['head_center_y', 'body_center_y', 'foot_center_y', 'num_detection',\n",
    "            'head_above_body', 'head_below_body', 'body_above_foot', \n",
    "            'body_below_foot', 'head_above_foot', 'head_below_foot']"
   ]
  },
  {
   "cell_type": "code",
   "execution_count": 5,
   "id": "7f626e58",
   "metadata": {},
   "outputs": [
    {
     "data": {
      "text/html": [
       "<div>\n",
       "<style scoped>\n",
       "    .dataframe tbody tr th:only-of-type {\n",
       "        vertical-align: middle;\n",
       "    }\n",
       "\n",
       "    .dataframe tbody tr th {\n",
       "        vertical-align: top;\n",
       "    }\n",
       "\n",
       "    .dataframe thead th {\n",
       "        text-align: right;\n",
       "    }\n",
       "</style>\n",
       "<table border=\"1\" class=\"dataframe\">\n",
       "  <thead>\n",
       "    <tr style=\"text-align: right;\">\n",
       "      <th></th>\n",
       "      <th>label</th>\n",
       "      <th>file_name</th>\n",
       "      <th>head_center_y</th>\n",
       "      <th>body_center_y</th>\n",
       "      <th>foot_center_y</th>\n",
       "      <th>num_detection</th>\n",
       "      <th>head_above_body</th>\n",
       "      <th>head_below_body</th>\n",
       "      <th>body_above_foot</th>\n",
       "      <th>body_below_foot</th>\n",
       "      <th>head_above_foot</th>\n",
       "      <th>head_below_foot</th>\n",
       "    </tr>\n",
       "  </thead>\n",
       "  <tbody>\n",
       "    <tr>\n",
       "      <th>0</th>\n",
       "      <td>normal</td>\n",
       "      <td>20230408113742800161.jpg</td>\n",
       "      <td>0.981448</td>\n",
       "      <td>0.000000</td>\n",
       "      <td>0.000000</td>\n",
       "      <td>1</td>\n",
       "      <td>True</td>\n",
       "      <td>False</td>\n",
       "      <td>False</td>\n",
       "      <td>False</td>\n",
       "      <td>True</td>\n",
       "      <td>False</td>\n",
       "    </tr>\n",
       "    <tr>\n",
       "      <th>1</th>\n",
       "      <td>normal</td>\n",
       "      <td>20230408113743848244.jpg</td>\n",
       "      <td>0.981448</td>\n",
       "      <td>0.000000</td>\n",
       "      <td>0.000000</td>\n",
       "      <td>0</td>\n",
       "      <td>True</td>\n",
       "      <td>False</td>\n",
       "      <td>False</td>\n",
       "      <td>False</td>\n",
       "      <td>True</td>\n",
       "      <td>False</td>\n",
       "    </tr>\n",
       "    <tr>\n",
       "      <th>2</th>\n",
       "      <td>normal</td>\n",
       "      <td>20230408113744657076.jpg</td>\n",
       "      <td>0.000000</td>\n",
       "      <td>0.000000</td>\n",
       "      <td>0.000000</td>\n",
       "      <td>0</td>\n",
       "      <td>False</td>\n",
       "      <td>False</td>\n",
       "      <td>False</td>\n",
       "      <td>False</td>\n",
       "      <td>False</td>\n",
       "      <td>False</td>\n",
       "    </tr>\n",
       "    <tr>\n",
       "      <th>3</th>\n",
       "      <td>normal</td>\n",
       "      <td>20230408113745493582.jpg</td>\n",
       "      <td>0.000000</td>\n",
       "      <td>0.000000</td>\n",
       "      <td>0.000000</td>\n",
       "      <td>0</td>\n",
       "      <td>False</td>\n",
       "      <td>False</td>\n",
       "      <td>False</td>\n",
       "      <td>False</td>\n",
       "      <td>False</td>\n",
       "      <td>False</td>\n",
       "    </tr>\n",
       "    <tr>\n",
       "      <th>4</th>\n",
       "      <td>normal</td>\n",
       "      <td>20230408113746395248.jpg</td>\n",
       "      <td>0.000000</td>\n",
       "      <td>0.000000</td>\n",
       "      <td>0.000000</td>\n",
       "      <td>0</td>\n",
       "      <td>False</td>\n",
       "      <td>False</td>\n",
       "      <td>False</td>\n",
       "      <td>False</td>\n",
       "      <td>False</td>\n",
       "      <td>False</td>\n",
       "    </tr>\n",
       "    <tr>\n",
       "      <th>...</th>\n",
       "      <td>...</td>\n",
       "      <td>...</td>\n",
       "      <td>...</td>\n",
       "      <td>...</td>\n",
       "      <td>...</td>\n",
       "      <td>...</td>\n",
       "      <td>...</td>\n",
       "      <td>...</td>\n",
       "      <td>...</td>\n",
       "      <td>...</td>\n",
       "      <td>...</td>\n",
       "      <td>...</td>\n",
       "    </tr>\n",
       "    <tr>\n",
       "      <th>350</th>\n",
       "      <td>alert</td>\n",
       "      <td>20230408170438597847.jpg</td>\n",
       "      <td>0.737078</td>\n",
       "      <td>0.749507</td>\n",
       "      <td>0.000000</td>\n",
       "      <td>9</td>\n",
       "      <td>False</td>\n",
       "      <td>True</td>\n",
       "      <td>True</td>\n",
       "      <td>False</td>\n",
       "      <td>True</td>\n",
       "      <td>False</td>\n",
       "    </tr>\n",
       "    <tr>\n",
       "      <th>351</th>\n",
       "      <td>alert</td>\n",
       "      <td>20230408170439456369.jpg</td>\n",
       "      <td>0.000000</td>\n",
       "      <td>0.000000</td>\n",
       "      <td>0.000000</td>\n",
       "      <td>0</td>\n",
       "      <td>False</td>\n",
       "      <td>False</td>\n",
       "      <td>False</td>\n",
       "      <td>False</td>\n",
       "      <td>False</td>\n",
       "      <td>False</td>\n",
       "    </tr>\n",
       "    <tr>\n",
       "      <th>352</th>\n",
       "      <td>alert</td>\n",
       "      <td>20230408170440319791.jpg</td>\n",
       "      <td>0.724183</td>\n",
       "      <td>0.711388</td>\n",
       "      <td>0.771365</td>\n",
       "      <td>14</td>\n",
       "      <td>True</td>\n",
       "      <td>False</td>\n",
       "      <td>False</td>\n",
       "      <td>True</td>\n",
       "      <td>False</td>\n",
       "      <td>True</td>\n",
       "    </tr>\n",
       "    <tr>\n",
       "      <th>353</th>\n",
       "      <td>alert</td>\n",
       "      <td>20230408170441186098.jpg</td>\n",
       "      <td>0.591780</td>\n",
       "      <td>0.693862</td>\n",
       "      <td>0.731202</td>\n",
       "      <td>16</td>\n",
       "      <td>False</td>\n",
       "      <td>True</td>\n",
       "      <td>False</td>\n",
       "      <td>True</td>\n",
       "      <td>False</td>\n",
       "      <td>True</td>\n",
       "    </tr>\n",
       "    <tr>\n",
       "      <th>354</th>\n",
       "      <td>alert</td>\n",
       "      <td>20230408170442025281.jpg</td>\n",
       "      <td>0.712346</td>\n",
       "      <td>0.727758</td>\n",
       "      <td>0.744546</td>\n",
       "      <td>16</td>\n",
       "      <td>False</td>\n",
       "      <td>True</td>\n",
       "      <td>False</td>\n",
       "      <td>True</td>\n",
       "      <td>False</td>\n",
       "      <td>True</td>\n",
       "    </tr>\n",
       "  </tbody>\n",
       "</table>\n",
       "<p>355 rows × 12 columns</p>\n",
       "</div>"
      ],
      "text/plain": [
       "      label                 file_name  head_center_y  body_center_y  \\\n",
       "0    normal  20230408113742800161.jpg       0.981448       0.000000   \n",
       "1    normal  20230408113743848244.jpg       0.981448       0.000000   \n",
       "2    normal  20230408113744657076.jpg       0.000000       0.000000   \n",
       "3    normal  20230408113745493582.jpg       0.000000       0.000000   \n",
       "4    normal  20230408113746395248.jpg       0.000000       0.000000   \n",
       "..      ...                       ...            ...            ...   \n",
       "350   alert  20230408170438597847.jpg       0.737078       0.749507   \n",
       "351   alert  20230408170439456369.jpg       0.000000       0.000000   \n",
       "352   alert  20230408170440319791.jpg       0.724183       0.711388   \n",
       "353   alert  20230408170441186098.jpg       0.591780       0.693862   \n",
       "354   alert  20230408170442025281.jpg       0.712346       0.727758   \n",
       "\n",
       "     foot_center_y  num_detection  head_above_body  head_below_body  \\\n",
       "0         0.000000              1             True            False   \n",
       "1         0.000000              0             True            False   \n",
       "2         0.000000              0            False            False   \n",
       "3         0.000000              0            False            False   \n",
       "4         0.000000              0            False            False   \n",
       "..             ...            ...              ...              ...   \n",
       "350       0.000000              9            False             True   \n",
       "351       0.000000              0            False            False   \n",
       "352       0.771365             14             True            False   \n",
       "353       0.731202             16            False             True   \n",
       "354       0.744546             16            False             True   \n",
       "\n",
       "     body_above_foot  body_below_foot  head_above_foot  head_below_foot  \n",
       "0              False            False             True            False  \n",
       "1              False            False             True            False  \n",
       "2              False            False            False            False  \n",
       "3              False            False            False            False  \n",
       "4              False            False            False            False  \n",
       "..               ...              ...              ...              ...  \n",
       "350             True            False             True            False  \n",
       "351            False            False            False            False  \n",
       "352            False             True            False             True  \n",
       "353            False             True            False             True  \n",
       "354            False             True            False             True  \n",
       "\n",
       "[355 rows x 12 columns]"
      ]
     },
     "execution_count": 5,
     "metadata": {},
     "output_type": "execute_result"
    },
    {
     "name": "stdout",
     "output_type": "stream",
     "text": [
      "time: 172 ms (started: 2023-04-09 18:47:59 +08:00)\n"
     ]
    }
   ],
   "source": [
    "df"
   ]
  },
  {
   "cell_type": "code",
   "execution_count": 6,
   "id": "df5d624f",
   "metadata": {},
   "outputs": [
    {
     "data": {
      "text/plain": [
       "alert     355\n",
       "normal    284\n",
       "Name: label, dtype: int64"
      ]
     },
     "execution_count": 6,
     "metadata": {},
     "output_type": "execute_result"
    },
    {
     "name": "stdout",
     "output_type": "stream",
     "text": [
      "time: 187 ms (started: 2023-04-09 18:47:59 +08:00)\n"
     ]
    }
   ],
   "source": [
    "# Class imbalance: produce more of 'alert' data\n",
    "class1, class2 = df['label'].value_counts().sort_index().values\n",
    "if int(class2 / class1) > 2:\n",
    "    df = pd.concat([df] + [df[df['label']=='alert']]*int(class2 / class1))\n",
    "df['label'].value_counts()"
   ]
  },
  {
   "cell_type": "code",
   "execution_count": 7,
   "id": "0259c99d",
   "metadata": {},
   "outputs": [
    {
     "name": "stdout",
     "output_type": "stream",
     "text": [
      "No points detected\n"
     ]
    },
    {
     "data": {
      "text/plain": [
       "alert     55\n",
       "normal    90\n",
       "Name: label, dtype: int64"
      ]
     },
     "execution_count": 7,
     "metadata": {},
     "output_type": "execute_result"
    },
    {
     "name": "stdout",
     "output_type": "stream",
     "text": [
      "time: 203 ms (started: 2023-04-09 18:47:59 +08:00)\n"
     ]
    }
   ],
   "source": [
    "# If no points detected, force the classifier to detect 'normal'\n",
    "mask = df[features].sum(axis=1) == 0\n",
    "mask1 = df['label'] == 'normal'\n",
    "class1_zero, class2_zero = df[mask]['label'].value_counts().sort_index().values\n",
    "if class1_zero > class2_zero:\n",
    "    df = pd.concat([df] + [df[mask & mask1]]*(int(class1_zero / class2_zero)+1))\n",
    "\n",
    "mask = df[features].sum(axis=1) == 0\n",
    "print('No points detected')\n",
    "df[mask]['label'].value_counts().sort_index()"
   ]
  },
  {
   "cell_type": "code",
   "execution_count": 8,
   "id": "70393a4b",
   "metadata": {},
   "outputs": [
    {
     "name": "stdout",
     "output_type": "stream",
     "text": [
      "Overall\n"
     ]
    },
    {
     "data": {
      "text/plain": [
       "alert     355\n",
       "normal    356\n",
       "Name: label, dtype: int64"
      ]
     },
     "execution_count": 8,
     "metadata": {},
     "output_type": "execute_result"
    },
    {
     "name": "stdout",
     "output_type": "stream",
     "text": [
      "time: 187 ms (started: 2023-04-09 18:47:59 +08:00)\n"
     ]
    }
   ],
   "source": [
    "print('Overall')\n",
    "df['label'].value_counts().sort_index()"
   ]
  },
  {
   "cell_type": "code",
   "execution_count": 10,
   "id": "2a6b524e",
   "metadata": {},
   "outputs": [
    {
     "name": "stdout",
     "output_type": "stream",
     "text": [
      "0.685 \trobust \tmax_depth 2 [0.75524476 0.63380282 0.65492958 0.69014085 0.69014085]\n",
      "0.707 \trobust \tmax_depth 3 [0.75524476 0.71126761 0.68309859 0.69014085 0.6971831 ]\n",
      "0.796 \trobust \tmax_depth 4 [0.84615385 0.76760563 0.78169014 0.77464789 0.80985915]\n",
      "0.823 \trobust \tmax_depth 5 [0.86713287 0.80985915 0.81690141 0.79577465 0.82394366]\n",
      "0.835 \trobust \tmax_depth 6 [0.86713287 0.82394366 0.81690141 0.8028169  0.86619718]\n",
      "0.845 \trobust \tmax_depth 7 [0.87412587 0.82394366 0.82394366 0.83098592 0.87323944]\n",
      "0.862 \trobust \tmax_depth 8 [0.88811189 0.83098592 0.83802817 0.86619718 0.88732394]\n",
      "0.873 \t \tmax_depth 9 [0.91608392 0.85211268 0.83098592 0.87323944 0.8943662 ]\n",
      "time: 453 ms (started: 2023-04-09 18:48:04 +08:00)\n"
     ]
    }
   ],
   "source": [
    "train, test = df[features].values, df['label'].values\n",
    "rng = np.random.RandomState(10)\n",
    "permutation = rng.permutation(len(train))\n",
    "train, test = train[permutation], test[permutation]\n",
    "\n",
    "prev_max_min = 0\n",
    "for max_dep in range(2, 10):\n",
    "    clf = DecisionTreeClassifier(max_depth=max_dep)\n",
    "    scores = cross_val_score(clf, train, test , cv=5)\n",
    "    min_score = min(scores)\n",
    "    if min_score > prev_max_min :\n",
    "        print(round(np.mean(scores), 3), '\\trobust', \n",
    "              '\\tmax_depth', max_dep, scores)\n",
    "        prev_max_min  = min_score\n",
    "    else:\n",
    "        print(round(np.mean(scores), 3), '\\t', \n",
    "              '\\tmax_depth', max_dep, scores)"
   ]
  },
  {
   "cell_type": "code",
   "execution_count": 11,
   "id": "d23d77c6",
   "metadata": {},
   "outputs": [
    {
     "name": "stdout",
     "output_type": "stream",
     "text": [
      "[[300  55]\n",
      " [ 15 341]]\n",
      "              precision    recall  f1-score   support\n",
      "\n",
      "       alert       0.95      0.85      0.90       355\n",
      "      normal       0.86      0.96      0.91       356\n",
      "\n",
      "    accuracy                           0.90       711\n",
      "   macro avg       0.91      0.90      0.90       711\n",
      "weighted avg       0.91      0.90      0.90       711\n",
      "\n"
     ]
    },
    {
     "data": {
      "text/plain": [
       "'normal'"
      ]
     },
     "execution_count": 11,
     "metadata": {},
     "output_type": "execute_result"
    },
    {
     "name": "stdout",
     "output_type": "stream",
     "text": [
      "time: 282 ms (started: 2023-04-09 18:48:07 +08:00)\n"
     ]
    }
   ],
   "source": [
    "classifier = DecisionTreeClassifier(max_depth=8)\n",
    "classifier.fit(df[features], df['label'])\n",
    "pred = classifier.predict(df[features])\n",
    "print(confusion_matrix(df['label'], pred))\n",
    "print(classification_report(df['label'], pred))\n",
    "\n",
    "classifier.predict(np.expand_dims(np.zeros(10), axis=0))[0]"
   ]
  },
  {
   "cell_type": "code",
   "execution_count": 12,
   "id": "ec21c9e9",
   "metadata": {
    "collapsed": true
   },
   "outputs": [
    {
     "name": "stdout",
     "output_type": "stream",
     "text": [
      "|--- feature_0 <= 0.89\n",
      "|   |--- feature_5 <= 0.50\n",
      "|   |   |--- feature_2 <= 0.70\n",
      "|   |   |   |--- feature_0 <= 0.62\n",
      "|   |   |   |   |--- feature_9 <= 0.50\n",
      "|   |   |   |   |   |--- feature_0 <= 0.31\n",
      "|   |   |   |   |   |   |--- class: normal\n",
      "|   |   |   |   |   |--- feature_0 >  0.31\n",
      "|   |   |   |   |   |   |--- class: normal\n",
      "|   |   |   |   |--- feature_9 >  0.50\n",
      "|   |   |   |   |   |--- feature_3 <= 8.00\n",
      "|   |   |   |   |   |   |--- class: alert\n",
      "|   |   |   |   |   |--- feature_3 >  8.00\n",
      "|   |   |   |   |   |   |--- class: normal\n",
      "|   |   |   |--- feature_0 >  0.62\n",
      "|   |   |   |   |--- feature_3 <= 15.50\n",
      "|   |   |   |   |   |--- feature_2 <= 0.63\n",
      "|   |   |   |   |   |   |--- feature_2 <= 0.59\n",
      "|   |   |   |   |   |   |   |--- class: alert\n",
      "|   |   |   |   |   |   |--- feature_2 >  0.59\n",
      "|   |   |   |   |   |   |   |--- feature_2 <= 0.60\n",
      "|   |   |   |   |   |   |   |   |--- class: normal\n",
      "|   |   |   |   |   |   |   |--- feature_2 >  0.60\n",
      "|   |   |   |   |   |   |   |   |--- class: alert\n",
      "|   |   |   |   |   |--- feature_2 >  0.63\n",
      "|   |   |   |   |   |   |--- feature_1 <= 0.70\n",
      "|   |   |   |   |   |   |   |--- class: normal\n",
      "|   |   |   |   |   |   |--- feature_1 >  0.70\n",
      "|   |   |   |   |   |   |   |--- feature_2 <= 0.69\n",
      "|   |   |   |   |   |   |   |   |--- class: alert\n",
      "|   |   |   |   |   |   |   |--- feature_2 >  0.69\n",
      "|   |   |   |   |   |   |   |   |--- class: alert\n",
      "|   |   |   |   |--- feature_3 >  15.50\n",
      "|   |   |   |   |   |--- feature_2 <= 0.70\n",
      "|   |   |   |   |   |   |--- feature_0 <= 0.73\n",
      "|   |   |   |   |   |   |   |--- feature_1 <= 0.66\n",
      "|   |   |   |   |   |   |   |   |--- class: normal\n",
      "|   |   |   |   |   |   |   |--- feature_1 >  0.66\n",
      "|   |   |   |   |   |   |   |   |--- class: alert\n",
      "|   |   |   |   |   |   |--- feature_0 >  0.73\n",
      "|   |   |   |   |   |   |   |--- class: normal\n",
      "|   |   |   |   |   |--- feature_2 >  0.70\n",
      "|   |   |   |   |   |   |--- class: alert\n",
      "|   |   |--- feature_2 >  0.70\n",
      "|   |   |   |--- feature_0 <= 0.73\n",
      "|   |   |   |   |--- feature_1 <= 0.70\n",
      "|   |   |   |   |   |--- class: normal\n",
      "|   |   |   |   |--- feature_1 >  0.70\n",
      "|   |   |   |   |   |--- class: alert\n",
      "|   |   |   |--- feature_0 >  0.73\n",
      "|   |   |   |   |--- class: normal\n",
      "|   |--- feature_5 >  0.50\n",
      "|   |   |--- feature_0 <= 0.63\n",
      "|   |   |   |--- feature_0 <= 0.60\n",
      "|   |   |   |   |--- feature_1 <= 0.81\n",
      "|   |   |   |   |   |--- feature_3 <= 16.50\n",
      "|   |   |   |   |   |   |--- feature_1 <= 0.66\n",
      "|   |   |   |   |   |   |   |--- feature_1 <= 0.62\n",
      "|   |   |   |   |   |   |   |   |--- class: alert\n",
      "|   |   |   |   |   |   |   |--- feature_1 >  0.62\n",
      "|   |   |   |   |   |   |   |   |--- class: normal\n",
      "|   |   |   |   |   |   |--- feature_1 >  0.66\n",
      "|   |   |   |   |   |   |   |--- class: alert\n",
      "|   |   |   |   |   |--- feature_3 >  16.50\n",
      "|   |   |   |   |   |   |--- class: normal\n",
      "|   |   |   |   |--- feature_1 >  0.81\n",
      "|   |   |   |   |   |--- class: normal\n",
      "|   |   |   |--- feature_0 >  0.60\n",
      "|   |   |   |   |--- class: normal\n",
      "|   |   |--- feature_0 >  0.63\n",
      "|   |   |   |--- feature_3 <= 14.50\n",
      "|   |   |   |   |--- class: alert\n",
      "|   |   |   |--- feature_3 >  14.50\n",
      "|   |   |   |   |--- feature_6 <= 0.50\n",
      "|   |   |   |   |   |--- feature_0 <= 0.66\n",
      "|   |   |   |   |   |   |--- class: normal\n",
      "|   |   |   |   |   |--- feature_0 >  0.66\n",
      "|   |   |   |   |   |   |--- feature_1 <= 0.90\n",
      "|   |   |   |   |   |   |   |--- feature_2 <= 0.81\n",
      "|   |   |   |   |   |   |   |   |--- class: alert\n",
      "|   |   |   |   |   |   |   |--- feature_2 >  0.81\n",
      "|   |   |   |   |   |   |   |   |--- class: alert\n",
      "|   |   |   |   |   |   |--- feature_1 >  0.90\n",
      "|   |   |   |   |   |   |   |--- class: normal\n",
      "|   |   |   |   |--- feature_6 >  0.50\n",
      "|   |   |   |   |   |--- feature_0 <= 0.77\n",
      "|   |   |   |   |   |   |--- feature_3 <= 16.50\n",
      "|   |   |   |   |   |   |   |--- feature_9 <= 0.50\n",
      "|   |   |   |   |   |   |   |   |--- class: alert\n",
      "|   |   |   |   |   |   |   |--- feature_9 >  0.50\n",
      "|   |   |   |   |   |   |   |   |--- class: normal\n",
      "|   |   |   |   |   |   |--- feature_3 >  16.50\n",
      "|   |   |   |   |   |   |   |--- class: normal\n",
      "|   |   |   |   |   |--- feature_0 >  0.77\n",
      "|   |   |   |   |   |   |--- class: normal\n",
      "|--- feature_0 >  0.89\n",
      "|   |--- feature_9 <= 0.50\n",
      "|   |   |--- feature_0 <= 0.93\n",
      "|   |   |   |--- feature_0 <= 0.93\n",
      "|   |   |   |   |--- class: normal\n",
      "|   |   |   |--- feature_0 >  0.93\n",
      "|   |   |   |   |--- class: alert\n",
      "|   |   |--- feature_0 >  0.93\n",
      "|   |   |   |--- class: normal\n",
      "|   |--- feature_9 >  0.50\n",
      "|   |   |--- feature_0 <= 0.92\n",
      "|   |   |   |--- class: normal\n",
      "|   |   |--- feature_0 >  0.92\n",
      "|   |   |   |--- class: alert\n",
      "\n",
      "time: 203 ms (started: 2023-04-09 18:48:13 +08:00)\n"
     ]
    }
   ],
   "source": [
    "print(export_text(classifier))"
   ]
  },
  {
   "cell_type": "code",
   "execution_count": 13,
   "id": "c4d981be",
   "metadata": {},
   "outputs": [
    {
     "data": {
      "text/plain": [
       "'C:\\\\Users\\\\Yue\\\\My Drive\\\\MComp\\\\IS5451 AIoT Solutions and Development\\\\Group Project\\\\2_classifier_tree.pdf'"
      ]
     },
     "execution_count": 13,
     "metadata": {},
     "output_type": "execute_result"
    },
    {
     "name": "stdout",
     "output_type": "stream",
     "text": [
      "time: 422 ms (started: 2023-04-09 18:48:29 +08:00)\n"
     ]
    }
   ],
   "source": [
    "dot_data = export_graphviz(classifier, out_file=None, \n",
    "                                feature_names=features, \n",
    "                                class_names=['alert','normal'], filled=True, rounded=True, special_characters=True)\n",
    "graph = graphviz.Source(dot_data)\n",
    "graph.render(os.path.join(os.getcwd(), \"2_classifier_tree\"))"
   ]
  },
  {
   "cell_type": "markdown",
   "id": "7b14cd6a",
   "metadata": {},
   "source": [
    "## Test the model, with an image and key points"
   ]
  },
  {
   "cell_type": "code",
   "execution_count": 14,
   "id": "f059e929",
   "metadata": {},
   "outputs": [
    {
     "name": "stdout",
     "output_type": "stream",
     "text": [
      "time: 359 ms (started: 2023-04-09 18:48:37 +08:00)\n"
     ]
    }
   ],
   "source": [
    "dump(classifier, classifier_path) \n",
    "clf = load(classifier_path) "
   ]
  },
  {
   "cell_type": "code",
   "execution_count": 15,
   "id": "7c2401c6",
   "metadata": {},
   "outputs": [
    {
     "name": "stdout",
     "output_type": "stream",
     "text": [
      "time: 828 ms (started: 2023-04-09 18:48:39 +08:00)\n"
     ]
    }
   ],
   "source": [
    "# For each image, get the prevous state of head_center_y, body_center_y, foot_center_y\n",
    "prev_states = {df['file_name'].iloc[0]:[0,0,0,0]}\n",
    "for i in range(1, df.shape[0]):\n",
    "    prev_states.update({df['file_name'].iloc[i-1]:df.iloc[i]\n",
    "        [['head_center_y', 'body_center_y', 'foot_center_y', 'num_detection']].tolist()})"
   ]
  },
  {
   "cell_type": "code",
   "execution_count": 16,
   "id": "e8847a7a",
   "metadata": {},
   "outputs": [
    {
     "name": "stdout",
     "output_type": "stream",
     "text": [
      "[[ 0.63940908  0.64455846  0.62071547 16.          0.          1.\n",
      "   1.          0.          1.          0.        ]]\n",
      "20230408113838354754.jpg alert --> alert\n",
      "time: 297 ms (started: 2023-04-09 18:48:40 +08:00)\n"
     ]
    }
   ],
   "source": [
    "sample_label = labels[1]\n",
    "sample_file = sorted(data[sample_label])[10]\n",
    "prev_state = prev_states.get(sample_file, [0,0,0,0])\n",
    "keypoints_with_scores = data[sample_label][sample_file]\n",
    "input_data, curr_state = construct_feature(keypoints_with_scores, prev_state)\n",
    "formatted_data = np.expand_dims(input_data, axis=0)\n",
    "print(formatted_data)\n",
    "predicted_label = clf.predict(formatted_data)[0]\n",
    "print(sample_file, sample_label, '-->', predicted_label)"
   ]
  },
  {
   "cell_type": "code",
   "execution_count": 17,
   "id": "de95c472",
   "metadata": {},
   "outputs": [
    {
     "data": {
      "image/png": "[encoded data removed]",
      "text/plain": [
       "<Figure size 360x360 with 1 Axes>"
      ]
     },
     "metadata": {
      "needs_background": "light"
     },
     "output_type": "display_data"
    },
    {
     "name": "stdout",
     "output_type": "stream",
     "text": [
      "time: 969 ms (started: 2023-04-09 18:48:40 +08:00)\n"
     ]
    }
   ],
   "source": [
    "show_output_overlay(data, file=sample_file, label=sample_label, figsize=(5, 5))"
   ]
  },
  {
   "cell_type": "code",
   "execution_count": null,
   "id": "5b6e9364",
   "metadata": {},
   "outputs": [],
   "source": []
  }
 ],
 "metadata": {
  "kernelspec": {
   "display_name": "Python 3 (ipykernel)",
   "language": "python",
   "name": "python3"
  },
  "language_info": {
   "codemirror_mode": {
    "name": "ipython",
    "version": 3
   },
   "file_extension": ".py",
   "mimetype": "text/x-python",
   "name": "python",
   "nbconvert_exporter": "python",
   "pygments_lexer": "ipython3",
   "version": "3.9.7"
  }
 },
 "nbformat": 4,
 "nbformat_minor": 5
}
